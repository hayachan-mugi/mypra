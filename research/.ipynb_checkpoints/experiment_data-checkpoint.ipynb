{
 "cells": [
  {
   "cell_type": "code",
   "execution_count": 25,
   "metadata": {},
   "outputs": [],
   "source": [
    "import csv\n",
    "import pandas as pd\n",
    "import numpy as np\n",
    "import matplotlib.pyplot as plt\n",
    "import ipywidgets as widgets\n",
    "import os\n",
    "from scipy.stats import norm\n",
    "from sklearn import linear_model\n",
    "\n",
    "%matplotlib widget"
   ]
  },
  {
   "cell_type": "code",
   "execution_count": 26,
   "metadata": {},
   "outputs": [],
   "source": [
    "def data_change(file):\n",
    "    f = pd.read_csv(file,encoding='Shift-JIS')\n",
    "    f.columns=list('XY')\n",
    "\n",
    "    d1 = f[f['X']=='XYDATA'].index\n",
    "    d2 = np.array(d1) + 1\n",
    "    d3 = f[f['X']=='##### Extended Information'].index\n",
    "    d3 = np.array(d3) - 1\n",
    "\n",
    "    XDATA = f.iloc[d2[0]:d3[0],0:1]\n",
    "    YDATA = f.iloc[d2[0]:d3[0],1:2]\n",
    "    x = np.array(XDATA)\n",
    "    y = np.array(YDATA) \n",
    "    x = [float(s) for s in x]\n",
    "    y = [float(s) for s in y]\n",
    "    x = np.array(x)\n",
    "    y = np.array(y)\n",
    "\n",
    "    return x,y"
   ]
  },
  {
   "cell_type": "code",
   "execution_count": 27,
   "metadata": {},
   "outputs": [],
   "source": [
    "def convert_cal(x1,y1,x2,y2,x3,y3):\n",
    "    y_solvent = np.log10(y1/y2)\n",
    "    y_solute = np.log10(y1/y3)\n",
    "    y = y2\n",
    "    print(x)\n",
    "    print(y)\n",
    "    if x1.all() == x2.all():\n",
    "        return x1,y\n",
    "    else :\n",
    "        return False"
   ]
  },
  {
   "cell_type": "markdown",
   "metadata": {},
   "source": [
    "Main function"
   ]
  },
  {
   "cell_type": "code",
   "execution_count": 28,
   "metadata": {},
   "outputs": [
    {
     "name": "stderr",
     "output_type": "stream",
     "text": [
      "C:\\Users\\y-hayata\\Anaconda3\\lib\\site-packages\\ipykernel_launcher.py:3: RuntimeWarning: invalid value encountered in log10\n",
      "  This is separate from the ipykernel package so we can avoid doing imports until\n"
     ]
    },
    {
     "name": "stdout",
     "output_type": "stream",
     "text": [
      "[ 499.955   500.4372  500.9193 ... 7798.7202 7799.2021 7799.6846]\n",
      "[3.44244  3.22286  3.2812   ... 0.622644 0.619083 0.616396]\n",
      "[[ 499.955   500.4372  500.9193 ... 7798.7202 7799.2021 7799.6846]]\n",
      "[[3.44244  3.22286  3.2812   ... 0.622644 0.619083 0.616396]]\n"
     ]
    },
    {
     "data": {
      "text/plain": [
       "LinearRegression()"
      ]
     },
     "execution_count": 28,
     "metadata": {},
     "output_type": "execute_result"
    }
   ],
   "source": [
    "file_BG = os.path.abspath('../../研究/yamada/20200827/BG_16scans_2.0cm_afternoon.csv')\n",
    "file_Solvent = os.path.abspath('../../研究/yamada/20200826/deg0_Abs_Ba2F_Acetone_12umSpacer_16scans_2.0cm.csv')\n",
    "file_Solute = os.path.abspath('../../研究/yamada/20200827/Phthalonitrile_in_ethanol/deg0_signal_Ba2F_Ethanol_12umSpacer_16scans_2.0cm.csv')\n",
    "x1,y1 = data_change(file_BG)\n",
    "x2,y2 = data_change(file_Solvent)\n",
    "x3,y3 = data_change(file_Solute)\n",
    "x,y = convert_cal(x1,y1,x2,y2,x3,y3)\n",
    "\n",
    "x_pre,y_pre = np.asmatrix(x),np.asmatrix(y)\n",
    "print(x_pre)\n",
    "print(y_pre)\n",
    "clf = linear_model.LinearRegression()\n",
    "clf.fit(x_pre,y_pre)"
   ]
  },
  {
   "cell_type": "markdown",
   "metadata": {},
   "source": [
    "Plot function"
   ]
  },
  {
   "cell_type": "code",
   "execution_count": 29,
   "metadata": {},
   "outputs": [
    {
     "data": {
      "application/vnd.jupyter.widget-view+json": {
       "model_id": "048b121a0211451a9026717ce89bf30d",
       "version_major": 2,
       "version_minor": 0
      },
      "text/plain": [
       "Canvas(toolbar=Toolbar(toolitems=[('Home', 'Reset original view', 'home', 'home'), ('Back', 'Back to previous …"
      ]
     },
     "metadata": {},
     "output_type": "display_data"
    },
    {
     "ename": "NameError",
     "evalue": "name 'reg' is not defined",
     "output_type": "error",
     "traceback": [
      "\u001b[1;31m---------------------------------------------------------------------------\u001b[0m",
      "\u001b[1;31mNameError\u001b[0m                                 Traceback (most recent call last)",
      "\u001b[1;32m<ipython-input-29-fc86ac19e386>\u001b[0m in \u001b[0;36m<module>\u001b[1;34m\u001b[0m\n\u001b[0;32m      1\u001b[0m \u001b[0mplt\u001b[0m\u001b[1;33m.\u001b[0m\u001b[0mplot\u001b[0m\u001b[1;33m(\u001b[0m\u001b[0mx\u001b[0m\u001b[1;33m,\u001b[0m\u001b[0my\u001b[0m\u001b[1;33m,\u001b[0m\u001b[0mcolor\u001b[0m\u001b[1;33m=\u001b[0m\u001b[1;34m'black'\u001b[0m\u001b[1;33m,\u001b[0m  \u001b[0mlinestyle\u001b[0m\u001b[1;33m=\u001b[0m\u001b[1;34m'solid'\u001b[0m\u001b[1;33m,\u001b[0m \u001b[0mlinewidth\u001b[0m \u001b[1;33m=\u001b[0m \u001b[1;36m2.0\u001b[0m\u001b[1;33m,\u001b[0m \u001b[0mlabel\u001b[0m\u001b[1;33m=\u001b[0m\u001b[1;34m'line1'\u001b[0m\u001b[1;33m)\u001b[0m\u001b[1;33m\u001b[0m\u001b[1;33m\u001b[0m\u001b[0m\n\u001b[1;32m----> 2\u001b[1;33m \u001b[0mplt\u001b[0m\u001b[1;33m.\u001b[0m\u001b[0mplot\u001b[0m\u001b[1;33m(\u001b[0m\u001b[0mreg\u001b[0m\u001b[1;33m)\u001b[0m\u001b[1;33m\u001b[0m\u001b[1;33m\u001b[0m\u001b[0m\n\u001b[0m\u001b[0;32m      3\u001b[0m \u001b[0mplt\u001b[0m\u001b[1;33m.\u001b[0m\u001b[0mtitle\u001b[0m\u001b[1;33m(\u001b[0m\u001b[1;34m'Phthalonitrile in Ethanol'\u001b[0m\u001b[1;33m,\u001b[0m\u001b[0mfontsize\u001b[0m\u001b[1;33m=\u001b[0m\u001b[1;36m16\u001b[0m\u001b[1;33m)\u001b[0m\u001b[1;33m\u001b[0m\u001b[1;33m\u001b[0m\u001b[0m\n\u001b[0;32m      4\u001b[0m \u001b[0mplt\u001b[0m\u001b[1;33m.\u001b[0m\u001b[0mxlabel\u001b[0m\u001b[1;33m(\u001b[0m\u001b[1;34m'Wave Number [cm-1]'\u001b[0m\u001b[1;33m,\u001b[0m\u001b[0mfontsize\u001b[0m\u001b[1;33m=\u001b[0m\u001b[1;36m16\u001b[0m\u001b[1;33m)\u001b[0m\u001b[1;33m\u001b[0m\u001b[1;33m\u001b[0m\u001b[0m\n\u001b[0;32m      5\u001b[0m \u001b[0mplt\u001b[0m\u001b[1;33m.\u001b[0m\u001b[0mylabel\u001b[0m\u001b[1;33m(\u001b[0m\u001b[1;34m'Absorption [%]'\u001b[0m\u001b[1;33m,\u001b[0m\u001b[0mfontsize\u001b[0m\u001b[1;33m=\u001b[0m\u001b[1;36m16\u001b[0m\u001b[1;33m)\u001b[0m\u001b[1;33m\u001b[0m\u001b[1;33m\u001b[0m\u001b[0m\n",
      "\u001b[1;31mNameError\u001b[0m: name 'reg' is not defined"
     ]
    }
   ],
   "source": [
    "plt.plot(x,y,color='black',  linestyle='solid', linewidth = 2.0, label='line1')\n",
    "plt.plot(clf)\n",
    "plt.title('Phthalonitrile in Ethanol',fontsize=16)\n",
    "plt.xlabel('Wave Number [cm-1]',fontsize=16) \n",
    "plt.ylabel('Absorption [%]',fontsize=16) \n",
    "plt.xlim()\n",
    "plt.ylim()\n",
    "plt.grid(color='b', linestyle='--', linewidth=0.1)\n",
    "plt.show()"
   ]
  },
  {
   "cell_type": "code",
   "execution_count": null,
   "metadata": {},
   "outputs": [],
   "source": []
  }
 ],
 "metadata": {
  "kernelspec": {
   "display_name": "Python 3",
   "language": "python",
   "name": "python3"
  },
  "language_info": {
   "codemirror_mode": {
    "name": "ipython",
    "version": 3
   },
   "file_extension": ".py",
   "mimetype": "text/x-python",
   "name": "python",
   "nbconvert_exporter": "python",
   "pygments_lexer": "ipython3",
   "version": "3.7.6"
  }
 },
 "nbformat": 4,
 "nbformat_minor": 4
}
