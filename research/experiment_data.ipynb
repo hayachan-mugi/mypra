{
 "cells": [
  {
   "cell_type": "code",
   "execution_count": 188,
   "metadata": {},
   "outputs": [],
   "source": [
    "import csv\n",
    "import pandas as pd\n",
    "import numpy as np\n",
    "import matplotlib.pyplot as plt\n",
    "import ipywidgets as widgets\n",
    "import os\n",
    "from scipy.stats import norm\n",
    "from sklearn import linear_model\n",
    "from scipy.spatial import ConvexHull\n",
    "\n",
    "%matplotlib widget"
   ]
  },
  {
   "cell_type": "code",
   "execution_count": 189,
   "metadata": {},
   "outputs": [],
   "source": [
    "def data_change(file):\n",
    "    f = pd.read_csv(file,encoding='Shift-JIS')\n",
    "    f.columns=list('XY')\n",
    "\n",
    "    d1 = f[f['X']=='XYDATA'].index\n",
    "    d2 = np.array(d1) + 1\n",
    "    d3 = f[f['X']=='##### Extended Information'].index\n",
    "    d3 = np.array(d3) - 1\n",
    "\n",
    "    XDATA = f.iloc[d2[0]:d3[0],0:1]\n",
    "    YDATA = f.iloc[d2[0]:d3[0],1:2]\n",
    "    x = np.array(XDATA)\n",
    "    y = np.array(YDATA)\n",
    "    x = [float(s) for s in x]\n",
    "    y = [float(s) for s in y]\n",
    "    x = np.array(x)\n",
    "    y = np.array(y)\n",
    "\n",
    "    return x,y"
   ]
  },
  {
   "cell_type": "code",
   "execution_count": 190,
   "metadata": {},
   "outputs": [],
   "source": [
    "def convert_cal(x1,y1,x2,y2,x3,y3):\n",
    "    y_solvent = np.log10(y1/y2)\n",
    "    y_solute = np.log10(y1/y3)\n",
    "    y = y2\n",
    "    print(x)\n",
    "    print(y)\n",
    "    if x1.all() == x2.all():\n",
    "        return x1,y\n",
    "    else :\n",
    "        return False"
   ]
  },
  {
   "cell_type": "markdown",
   "metadata": {},
   "source": [
    "Main function"
   ]
  },
  {
   "cell_type": "code",
   "execution_count": 191,
   "metadata": {},
   "outputs": [
    {
     "name": "stdout",
     "output_type": "stream",
     "text": [
      "[3.44244  2.3026   3.03884  ... 0.598039 0.621697 0.619083]\n"
     ]
    },
    {
     "data": {
      "text/plain": [
       "'\\nx_pre,y_pre = np.asmatrix(x),np.asmatrix(y)\\nprint(x_pre)\\nprint(y_pre)\\nclf = linear_model.LinearRegression()\\nclf.fit(x_pre,y_pre)\\n'"
      ]
     },
     "execution_count": 191,
     "metadata": {},
     "output_type": "execute_result"
    }
   ],
   "source": [
    "file_BG = os.path.abspath('../../研究/yamada/20200827/BG_16scans_2.0cm_afternoon.csv')\n",
    "file_Solvent = os.path.abspath('../../研究/yamada/20200902/PH3_in_Water/deg0_Abs_water_CaF2_12umSpacer_16scans_2.0cm.csv')\n",
    "file_Solute = os.path.abspath('../../研究/yamada/20200902/PH3_in_Water/deg0_Abs_PH_in_water_CaF2_12umSpacer_16scans_2.0cm.csv')\n",
    "file_Aceton = os.path.abspath('../../研究/yamada/20200826/deg0_Abs_Ba2F_Acetone_12umSpacer_16scans_2.0cm.csv')\n",
    "x1,y1 = data_change(file_BG)\n",
    "x2,y2 = data_change(file_Solvent)\n",
    "x3,y3 = data_change(file_Solute)\n",
    "x4,y4 = data_change(file_Aceton)\n",
    "print(y4[::10])\n",
    "#x,y = convert_cal(x1,y1,x2,y2,x3,y3)\n",
    "'''\n",
    "x_pre,y_pre = np.asmatrix(x),np.asmatrix(y)\n",
    "print(x_pre)\n",
    "print(y_pre)\n",
    "clf = linear_model.LinearRegression()\n",
    "clf.fit(x_pre,y_pre)\n",
    "'''"
   ]
  },
  {
   "cell_type": "markdown",
   "metadata": {},
   "source": [
    "Plot function"
   ]
  },
  {
   "cell_type": "code",
   "execution_count": 192,
   "metadata": {},
   "outputs": [
    {
     "name": "stdout",
     "output_type": "stream",
     "text": [
      "16\n",
      "[[ 4.9995500e+02  9.8207180e+02  1.4641885e+03  1.9463052e+03\n",
      "   2.4284219e+03  2.9105386e+03  3.3926555e+03  3.8747722e+03\n",
      "   4.3568887e+03  4.8390054e+03  5.3211226e+03  5.8032393e+03\n",
      "   6.2853560e+03  6.7674727e+03  7.2495894e+03  7.7317061e+03]\n",
      " [ 2.6501500e+00  7.6056200e-01  2.7059600e-01  8.0005000e-02\n",
      "   3.6674000e-02  1.9712900e-01  3.1116500e+00 -1.9373600e-02\n",
      "  -7.2748100e-02 -8.2796500e-02 -1.0118600e-01 -1.2321900e-01\n",
      "  -1.2553100e-01 -1.1237600e-01 -1.3534200e-01 -1.5288200e-01]]\n"
     ]
    },
    {
     "ename": "QhullError",
     "evalue": "QH6214 qhull input error: not enough points(1) to construct initial simplex (need 33)\n\nWhile executing:  | qhull i Qt Qx\nOptions selected for Qhull 2019.1.r 2019/06/21:\n  run-id 1995157142  incidence  Qtriangulate  Qxact-merge  _zero-centrum\n  Q3-no-merge-vertices-dim-high  _maxoutside  0\n",
     "output_type": "error",
     "traceback": [
      "\u001b[1;31m---------------------------------------------------------------------------\u001b[0m",
      "\u001b[1;31mQhullError\u001b[0m                                Traceback (most recent call last)",
      "\u001b[1;32m<ipython-input-192-b2d854a442a4>\u001b[0m in \u001b[0;36m<module>\u001b[1;34m\u001b[0m\n\u001b[0;32m      5\u001b[0m \u001b[0mb\u001b[0m \u001b[1;33m=\u001b[0m \u001b[0ma\u001b[0m\u001b[1;33m.\u001b[0m\u001b[0mreshape\u001b[0m\u001b[1;33m(\u001b[0m\u001b[1;36m1\u001b[0m\u001b[1;33m,\u001b[0m \u001b[1;36m2\u001b[0m\u001b[1;33m*\u001b[0m\u001b[0mlen\u001b[0m\u001b[1;33m(\u001b[0m\u001b[0mx2\u001b[0m\u001b[1;33m)\u001b[0m\u001b[1;33m)\u001b[0m\u001b[1;33m\u001b[0m\u001b[1;33m\u001b[0m\u001b[0m\n\u001b[0;32m      6\u001b[0m \u001b[1;31m#print(zip(x2, y2))\u001b[0m\u001b[1;33m\u001b[0m\u001b[1;33m\u001b[0m\u001b[1;33m\u001b[0m\u001b[0m\n\u001b[1;32m----> 7\u001b[1;33m \u001b[0mConvexHull\u001b[0m\u001b[1;33m(\u001b[0m\u001b[0mb\u001b[0m\u001b[1;33m)\u001b[0m\u001b[1;33m.\u001b[0m\u001b[0mvertices\u001b[0m\u001b[1;33m\u001b[0m\u001b[1;33m\u001b[0m\u001b[0m\n\u001b[0m\u001b[0;32m      8\u001b[0m \u001b[0mplt\u001b[0m\u001b[1;33m.\u001b[0m\u001b[0mplot\u001b[0m\u001b[1;33m(\u001b[0m\u001b[0mx2\u001b[0m\u001b[1;33m,\u001b[0m\u001b[0my2\u001b[0m\u001b[1;33m,\u001b[0m\u001b[0mcolor\u001b[0m\u001b[1;33m=\u001b[0m\u001b[1;34m'black'\u001b[0m\u001b[1;33m,\u001b[0m  \u001b[0mlinestyle\u001b[0m\u001b[1;33m=\u001b[0m\u001b[1;34m'solid'\u001b[0m\u001b[1;33m,\u001b[0m \u001b[0mlinewidth\u001b[0m \u001b[1;33m=\u001b[0m \u001b[1;36m2.0\u001b[0m\u001b[1;33m,\u001b[0m \u001b[0mlabel\u001b[0m\u001b[1;33m=\u001b[0m\u001b[1;34m'only water'\u001b[0m\u001b[1;33m)\u001b[0m\u001b[1;33m\u001b[0m\u001b[1;33m\u001b[0m\u001b[0m\n\u001b[0;32m      9\u001b[0m \u001b[1;31m#plt.plot(x3,y3,color='red',  linestyle='solid', linewidth = 2.0, label='water + PH3')\u001b[0m\u001b[1;33m\u001b[0m\u001b[1;33m\u001b[0m\u001b[1;33m\u001b[0m\u001b[0m\n",
      "\u001b[1;32mqhull.pyx\u001b[0m in \u001b[0;36mscipy.spatial.qhull.ConvexHull.__init__\u001b[1;34m()\u001b[0m\n",
      "\u001b[1;32mqhull.pyx\u001b[0m in \u001b[0;36mscipy.spatial.qhull._Qhull.__init__\u001b[1;34m()\u001b[0m\n",
      "\u001b[1;31mQhullError\u001b[0m: QH6214 qhull input error: not enough points(1) to construct initial simplex (need 33)\n\nWhile executing:  | qhull i Qt Qx\nOptions selected for Qhull 2019.1.r 2019/06/21:\n  run-id 1995157142  incidence  Qtriangulate  Qxact-merge  _zero-centrum\n  Q3-no-merge-vertices-dim-high  _maxoutside  0\n"
     ]
    }
   ],
   "source": [
    "x2,y2 = x2[::1000],y2[::1000]\n",
    "a = np.concatenate([x2,y2],0)\n",
    "print(len(x2))\n",
    "print(a.reshape(2, len(x2)))\n",
    "b = a.reshape(1, 2*len(x2))\n",
    "#print(zip(x2, y2))\n",
    "ConvexHull(b).vertices\n",
    "plt.plot(x2,y2,color='black',  linestyle='solid', linewidth = 2.0, label='only water')\n",
    "#plt.plot(x3,y3,color='red',  linestyle='solid', linewidth = 2.0, label='water + PH3')\n",
    "#plt.plot(clf)\n",
    "plt.title('Potassium Hexacyanoferrate',fontsize=16)\n",
    "plt.xlabel('Wave Number [cm-1]',fontsize=16) \n",
    "plt.ylabel('Absorption [%]',fontsize=16) \n",
    "plt.xlim(1800,2200)\n",
    "plt.ylim(0,0.8)\n",
    "plt.grid(color='b', linestyle='--', linewidth=0.1)\n",
    "plt.legend()\n",
    "plt.show()"
   ]
  },
  {
   "cell_type": "code",
   "execution_count": 193,
   "metadata": {},
   "outputs": [
    {
     "data": {
      "text/plain": [
       "\"\\nplt.plot(x4,y4,color='black',  linestyle='solid', linewidth = 2.0)\\n#plt.plot(clf)\\nplt.title('Aceton',fontsize=16)\\nplt.xlabel('Wave Number [cm-1]',fontsize=16) \\nplt.ylabel('Absorption [%]',fontsize=16) \\nplt.xlim()\\nplt.ylim()\\nplt.grid(color='b', linestyle='--', linewidth=0.1)\\nplt.legend()\\nplt.show()\\n\""
      ]
     },
     "execution_count": 193,
     "metadata": {},
     "output_type": "execute_result"
    }
   ],
   "source": [
    "'''\n",
    "plt.plot(x4,y4,color='black',  linestyle='solid', linewidth = 2.0)\n",
    "#plt.plot(clf)\n",
    "plt.title('Aceton',fontsize=16)\n",
    "plt.xlabel('Wave Number [cm-1]',fontsize=16) \n",
    "plt.ylabel('Absorption [%]',fontsize=16) \n",
    "plt.xlim()\n",
    "plt.ylim()\n",
    "plt.grid(color='b', linestyle='--', linewidth=0.1)\n",
    "plt.legend()\n",
    "plt.show()\n",
    "'''"
   ]
  },
  {
   "cell_type": "code",
   "execution_count": null,
   "metadata": {},
   "outputs": [],
   "source": []
  },
  {
   "cell_type": "code",
   "execution_count": null,
   "metadata": {},
   "outputs": [],
   "source": []
  }
 ],
 "metadata": {
  "kernelspec": {
   "display_name": "Python 3",
   "language": "python",
   "name": "python3"
  },
  "language_info": {
   "codemirror_mode": {
    "name": "ipython",
    "version": 3
   },
   "file_extension": ".py",
   "mimetype": "text/x-python",
   "name": "python",
   "nbconvert_exporter": "python",
   "pygments_lexer": "ipython3",
   "version": "3.7.6"
  }
 },
 "nbformat": 4,
 "nbformat_minor": 4
}
